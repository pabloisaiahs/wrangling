{
  "cells": [
    {
      "cell_type": "markdown",
      "id": "13ad028b-72b7-43ed-aa78-96fd4e518040",
      "metadata": {
        "id": "13ad028b-72b7-43ed-aa78-96fd4e518040"
      },
      "source": [
        "# Assignment: Data Wrangling\n",
        "### `! git clone https://github.com/ds4e/wrangling`\n",
        "### Do Q1 and Q2, and either Q3 or Q4, for a total of 3 questions."
      ]
    },
    {
      "cell_type": "code",
      "source": [
        "! git clone https://github.com/pabloisaiahs/wrangling.git"
      ],
      "metadata": {
        "colab": {
          "base_uri": "https://localhost:8080/"
        },
        "id": "94B1MkF7RqRc",
        "outputId": "34600dad-5d25-47f2-f64d-1bd84605025b"
      },
      "id": "94B1MkF7RqRc",
      "execution_count": 7,
      "outputs": [
        {
          "output_type": "stream",
          "name": "stdout",
          "text": [
            "Cloning into 'wrangling'...\n",
            "remote: Enumerating objects: 72, done.\u001b[K\n",
            "remote: Counting objects: 100% (33/33), done.\u001b[K\n",
            "remote: Compressing objects: 100% (26/26), done.\u001b[K\n",
            "remote: Total 72 (delta 14), reused 7 (delta 7), pack-reused 39 (from 1)\u001b[K\n",
            "Receiving objects: 100% (72/72), 14.58 MiB | 16.54 MiB/s, done.\n",
            "Resolving deltas: 100% (19/19), done.\n"
          ]
        }
      ]
    },
    {
      "cell_type": "markdown",
      "id": "da879ea7-8aac-48a3-b6c2-daea56d2e072",
      "metadata": {
        "id": "da879ea7-8aac-48a3-b6c2-daea56d2e072"
      },
      "source": [
        "**Q1.** This question provides some practice cleaning variables which have common problems.\n",
        "1. Numeric variable: For `./data/airbnb_hw.csv`, clean the `Price` variable as well as you can, and explain the choices you make. How many missing values do you end up with? (Hint: What happens to the formatting when a price goes over 999 dollars, say from 675 to 1,112?)\n",
        "2. Categorical variable: For the Minnesota police use of for data, `./data/mn_police_use_of_force.csv`, clean the `subject_injury` variable, handling the NA's; this gives a value `Yes` when a person was injured by police, and `No` when no injury occurred. What proportion of the values are missing? Is this a concern? Cross-tabulate your cleaned `subject_injury` variable with the `force_type` variable. Are there any patterns regarding when the data are missing?\n",
        "3. Dummy variable: For the pretrial data covered in the lecture, clean the `WhetherDefendantWasReleasedPretrial` variable as well as you can, and, in particular, replace missing values with `np.nan`.\n",
        "4. Missing values, not at random: For the pretrial data covered in the lecture, clean the `ImposedSentenceAllChargeInContactEvent` variable as well as you can, and explain the choices you make. (Hint: Look at the `SentenceTypeAllChargesAtConvictionInContactEvent` variable.)"
      ]
    },
    {
      "cell_type": "code",
      "source": [
        "import pandas as pd\n",
        "import numpy as np\n",
        "\n",
        "# Airbnb Price Cleaning\n",
        "airbnb_data = pd.read_csv('airbnb_hw.csv')\n",
        "airbnb_data['clean_price'] = airbnb_data['Price'].str.replace('$', '', regex=False).str.replace(',', '').astype(float)\n",
        "print(f\"Airbnb Price Missing Values: {airbnb_data['clean_price'].isnull().sum()}\")\n",
        "\n",
        "# Police Injury Data Cleaning\n",
        "police_data = pd.read_csv('mn_police_use_of_force.csv')\n",
        "missing_rate = police_data['subject_injury'].isna().mean()\n",
        "print(f\"Police Injury Data Missing Rate {missing_rate:.2%}\")\n",
        "\n",
        "police_data['injury_status'] = police_data['subject_injury'].fillna('Unknown')\n",
        "injury_by_force = pd.crosstab(police_data['injury_status'], police_data['force_type'])\n",
        "print(\"\\nInjury Status by Force Type\")\n",
        "print(injury_by_force)\n",
        "\n",
        "# Pretrial Release Data\n",
        "pretrial_url = 'http://www.vcsc.virginia.gov/pretrialdataproject/October%202017%20Cohort_Virginia%20Pretrial%20Data%20Project_Deidentified%20FINAL%20Update_10272021.csv'\n",
        "pretrial_data = pd.read_csv(pretrial_url, low_memory=False)\n",
        "\n",
        "# Clean Release Variable\n",
        "pretrial_data['release_status'] = pretrial_data['WhetherDefendantWasReleasedPretrial'].replace('', np.nan)\n",
        "\n",
        "# Clean Sentence Variable\n",
        "pretrial_data['clean_sentence'] = pd.to_numeric(\n",
        "    pretrial_data['ImposedSentenceAllChargeInContactEvent'].replace(r'^\\s*$', np.nan, regex=True),\n",
        "    errors='coerce'\n",
        ")\n",
        "\n",
        "missing_by_sentence_type = pretrial_data.groupby('SentenceTypeAllChargesAtConvictionInContactEvent')['clean_sentence'].apply(lambda x: x.isna().mean())\n",
        "print(\"\\nMissing Sentence Rates\")\n",
        "print(missing_by_sentence_type)\n"
      ],
      "metadata": {
        "id": "H8h4cbH_F63a",
        "outputId": "8f010199-5df5-4293-e47b-9f685eccd591",
        "colab": {
          "base_uri": "https://localhost:8080/"
        }
      },
      "id": "H8h4cbH_F63a",
      "execution_count": 18,
      "outputs": [
        {
          "output_type": "stream",
          "name": "stdout",
          "text": [
            "Airbnb Price Missing Values: 0\n",
            "Police Injury Data Missing Rate 76.19%\n",
            "\n",
            "Injury Status by Force Type\n",
            "force_type     Baton  Bodily Force  Chemical Irritant  Firearm  \\\n",
            "injury_status                                                    \n",
            "No                 0          1093                131        2   \n",
            "Unknown            2          7051               1421        0   \n",
            "Yes                2          1286                 41        0   \n",
            "\n",
            "force_type     Gun Point Display  Improvised Weapon  Less Lethal  \\\n",
            "injury_status                                                      \n",
            "No                            33                 34            0   \n",
            "Unknown                       27                 74           87   \n",
            "Yes                           44                 40            0   \n",
            "\n",
            "force_type     Less Lethal Projectile  Maximal Restraint Technique  \\\n",
            "injury_status                                                        \n",
            "No                                  1                            0   \n",
            "Unknown                             0                          170   \n",
            "Yes                                 2                            0   \n",
            "\n",
            "force_type     Police K9 Bite  Taser  \n",
            "injury_status                         \n",
            "No                          2    150  \n",
            "Unknown                    31    985  \n",
            "Yes                        44    172  \n",
            "\n",
            "Missing Sentence Rates\n",
            "SentenceTypeAllChargesAtConvictionInContactEvent\n",
            "0    0.0\n",
            "1    0.0\n",
            "2    0.0\n",
            "4    1.0\n",
            "9    1.0\n",
            "Name: clean_sentence, dtype: float64\n"
          ]
        }
      ]
    },
    {
      "cell_type": "markdown",
      "id": "5a60a44e",
      "metadata": {
        "id": "5a60a44e"
      },
      "source": [
        "**Q2.** Go to https://sharkattackfile.net/ and download their dataset on shark attacks.\n",
        "\n",
        "1. Open the shark attack file using Pandas. It is probably not a csv file, so `read_csv` won't work.\n",
        "2. Drop any columns that do not contain data.\n",
        "3. Clean the year variable. Describe the range of values you see. Filter the rows to focus on attacks since 1940. Are attacks increasing, decreasing, or remaining constant over time?\n",
        "4. Clean the Age variable and make a histogram of the ages of the victims.\n",
        "5. What proportion of victims are male?\n",
        "6. Clean the `Type` variable so it only takes three values: Provoked and Unprovoked and Unknown. What proportion of attacks are unprovoked?\n",
        "7. Clean the `Fatal Y/N` variable so it only takes three values: Y, N, and Unknown.\n",
        "8. Are sharks more likely to launch unprovoked attacks on men or women? Is the attack more or less likely to be fatal when the attack is provoked or unprovoked? Is it more or less likely to be fatal when the victim is male or female? How do you feel about sharks?\n",
        "9. What proportion of attacks appear to be by white sharks? (Hint: `str.split()` makes a vector of text values into a list of lists, split by spaces.)"
      ]
    },
    {
      "cell_type": "markdown",
      "id": "5735a4d4-8be8-433a-a351-70eb8002e632",
      "metadata": {
        "id": "5735a4d4-8be8-433a-a351-70eb8002e632"
      },
      "source": [
        "**Q3.** Open the \"tidy_data.pdf\" document in the repo, which is a paper called Tidy Data by Hadley Wickham.\n",
        "\n",
        "  1. Read the abstract. What is this paper about?\n",
        "  2. Read the introduction. What is the \"tidy data standard\" intended to accomplish?\n",
        "  3. Read the intro to section 2. What does this sentence mean: \"Like families, tidy datasets are all alike but every messy dataset is messy in its own way.\" What does this sentence mean: \"For a given dataset, it’s usually easy to figure out what are observations and what are variables, but it is surprisingly difficult to precisely define variables and observations in general.\"\n",
        "  4. Read Section 2.2. How does Wickham define values, variables, and observations?\n",
        "  5. How is \"Tidy Data\" defined in section 2.3?\n",
        "  6. Read the intro to Section 3 and Section 3.1. What are the 5 most common problems with messy datasets? Why are the data in Table 4 messy? What is \"melting\" a dataset?\n",
        "  7. Why, specifically, is table 11 messy but table 12 tidy and \"molten\"?\n",
        "  8. Read Section 6. What is the \"chicken-and-egg\" problem with focusing on tidy data? What does Wickham hope happens in the future with further work on the subject of data wrangling?"
      ]
    },
    {
      "cell_type": "markdown",
      "id": "649494cd-cfd6-4f80-992a-9994fc19e1d5",
      "metadata": {
        "id": "649494cd-cfd6-4f80-992a-9994fc19e1d5"
      },
      "source": [
        "**Q4.** Many important datasets contain a race variable, typically limited to a handful of values often including Black, White, Asian, Latino, and Indigenous. This question looks at data gathering efforts on this variable by the U.S. Federal government.\n",
        "\n",
        "1. How did the most recent US Census gather data on race?\n",
        "2. Why do we gather these data? What role do these kinds of data play in politics and society? Why does data quality matter?\n",
        "3. Please provide a constructive criticism of how the Census was conducted: What was done well? What do you think was missing? How should future large scale surveys be adjusted to best reflect the diversity of the population? Could some of the Census' good practices be adopted more widely to gather richer and more useful data?\n",
        "4. How did the Census gather data on sex and gender? Please provide a similar constructive criticism of their practices.\n",
        "5. When it comes to cleaning data, what concerns do you have about protected characteristics like sex, gender, sexual identity, or race? What challenges can you imagine arising when there are missing values? What good or bad practices might people adopt, and why?\n",
        "6. Suppose someone invented an algorithm to impute values for protected characteristics like race, gender, sex, or sexuality. What kinds of concerns would you have?"
      ]
    }
  ],
  "metadata": {
    "colab": {
      "provenance": []
    },
    "kernelspec": {
      "display_name": "Python 3 (ipykernel)",
      "language": "python",
      "name": "python3"
    },
    "language_info": {
      "codemirror_mode": {
        "name": "ipython",
        "version": 3
      },
      "file_extension": ".py",
      "mimetype": "text/x-python",
      "name": "python",
      "nbconvert_exporter": "python",
      "pygments_lexer": "ipython3",
      "version": "3.10.4"
    }
  },
  "nbformat": 4,
  "nbformat_minor": 5
}